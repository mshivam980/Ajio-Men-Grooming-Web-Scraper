{
 "cells": [
  {
   "cell_type": "markdown",
   "id": "52bfc6d1-2e0a-40af-aa72-1175c8c1d29c",
   "metadata": {},
   "source": [
    "# Ajio Men Grooming Product Scraper\n",
    "This Jupyter Notebook automates the extraction of product details from Ajio's Men's Grooming section. It uses Web Automation to Scrape infinite Scrolling on Ajio using Python and Selenium"
   ]
  },
  {
   "cell_type": "code",
   "execution_count": 101,
   "id": "40b0d127-2820-4917-adfa-b334f3044c46",
   "metadata": {},
   "outputs": [],
   "source": [
    "# Import Required Libraries\n",
    "from selenium import webdriver\n",
    "from selenium.webdriver.chrome.service import Service\n",
    "from selenium.webdriver.common.keys import Keys\n",
    "import time\n",
    "import pandas as pd\n",
    "\n",
    "# Path to ChromeDriver\n",
    "path = r\"C:\\Users\\mshiv\\Downloads\\chromedriver-win64\\chromedriver-win64\\chromedriver.exe\"\n",
    "service = Service(path)\n",
    "\n",
    "# Initialize WebDriver\n",
    "driver = webdriver.Chrome(service=service)"
   ]
  },
  {
   "cell_type": "code",
   "execution_count": 102,
   "id": "8e7dbac4-dd20-4a62-be7f-8c258d406e3a",
   "metadata": {},
   "outputs": [
    {
     "name": "stdout",
     "output_type": "stream",
     "text": [
      "Page length scrolled 9756\n",
      "Page length scrolled 27156\n",
      "Page length scrolled 53256\n",
      "Page length scrolled 79356\n",
      "Page length scrolled 96756\n",
      "Page length scrolled 114156\n",
      "Page length scrolled 131556\n",
      "Page length scrolled 148956\n",
      "Page length scrolled 166356\n",
      "Page length scrolled 183756\n",
      "Page length scrolled 201156\n",
      "Page length scrolled 218556\n",
      "Page length scrolled 235956\n",
      "Page length scrolled 253356\n",
      "Page length scrolled 270756\n",
      "Page length scrolled 288156\n",
      "Page length scrolled 303236\n",
      "Scrolling completed!\n"
     ]
    }
   ],
   "source": [
    "# Step 1: Go to Google and Search \"Ajio Men Grooming\"\n",
    "driver.get(\"https://www.google.com/\")\n",
    "time.sleep(2)\n",
    "\n",
    "# Locate the Google Search Box and Enter the Query\n",
    "search_box = driver.find_element(\"xpath\", '//*[@id=\"APjFqb\"]')\n",
    "search_box.send_keys(\"Ajio Men Grooming\")\n",
    "search_box.send_keys(Keys.ENTER)\n",
    "time.sleep(3)\n",
    "\n",
    "# Click the Ajio Website Link from the Search Results\n",
    "driver.find_element(\"xpath\", '//*[@id=\"AyvPbf\"]/div/div/div[1]/div/div/span/a').click()\n",
    "time.sleep(2)\n",
    "\n",
    "# Step 2: Scroll Down to Load All Products\n",
    "height = driver.execute_script(\"return document.body.scrollHeight\")\n",
    "while True:\n",
    "    print(\"Page length scrolled\",height)\n",
    "    driver.execute_script(\"window.scrollTo(0, document.body.scrollHeight)\")\n",
    "    time.sleep(2)\n",
    "    new_height = driver.execute_script(\"return document.body.scrollHeight\")\n",
    "    if height == new_height:\n",
    "        break\n",
    "    height = new_height\n",
    "\n",
    "print(\"Scrolling completed!\")"
   ]
  },
  {
   "cell_type": "code",
   "execution_count": 103,
   "id": "e105506a-f1d6-48c4-8a89-11d8572582f7",
   "metadata": {},
   "outputs": [
    {
     "name": "stdout",
     "output_type": "stream",
     "text": [
      "Number of complete products: 847\n",
      "Number of products ignored due to missing elements: 715\n"
     ]
    }
   ],
   "source": [
    "# Step 3: Locate All Parent Containers of the Products\n",
    "product_containers = driver.find_elements(\"xpath\", \"//div[@class='preview']\")\n",
    "\n",
    "# Initialize Dataset and Counter for Missing Products\n",
    "filtered_data = []\n",
    "no_of_element_missed = 0\n",
    "\n",
    "# Loop Through Each Product Container to Extract Data\n",
    "for container in product_containers:\n",
    "    try:\n",
    "        # Extract Brand, Name, Rating, and Price\n",
    "        brand = container.find_element(\"xpath\", \".//div[@class='brand']\").text.strip()\n",
    "        name = container.find_element(\"xpath\", \".//div[@class='nameCls']\").text.strip()\n",
    "        rating = container.find_element(\"xpath\", \".//p[@class='_3I65V']\").text.strip()\n",
    "        price = container.find_element(\"xpath\", \".//span[@class='price  ']//strong\").text.strip()[1:]\n",
    "\n",
    "        # Append Data to the Dataset\n",
    "        filtered_data.append({\n",
    "            \"Product Name\": name,\n",
    "            \"Brand\": brand,\n",
    "            \"Rating\": rating,\n",
    "            \"Price (INR)\": price\n",
    "        })\n",
    "    except Exception as e:\n",
    "        # Increment Counter for Missing Data\n",
    "        no_of_element_missed += 1\n",
    "\n",
    "print(f\"Number of complete products: {len(filtered_data)}\")\n",
    "print(f\"Number of products ignored due to missing elements: {no_of_element_missed}\")"
   ]
  },
  {
   "cell_type": "code",
   "execution_count": 104,
   "id": "639c6838-4cfe-40eb-982b-b5ab4f57f6fa",
   "metadata": {},
   "outputs": [
    {
     "name": "stdout",
     "output_type": "stream",
     "text": [
      "                                          Product Name            Brand  \\\n",
      "0            Vegan Body Spray - Vetiver Bergamot Woods         SUPERDRY   \n",
      "1    Power White Anti-Pollution Double Action Facew...          GARNIER   \n",
      "2        Vegan Body Spray - Ceaderwood Mandar In Amber         SUPERDRY   \n",
      "3                           Forest Spice Eau De Parfum       WILD STONE   \n",
      "4                        Sport Vegan Revive Body Spray         SUPERDRY   \n",
      "..                                                 ...              ...   \n",
      "842                       Booster Essence Lotion 50 ml             MUJI   \n",
      "843                                   Hand Soap Refill             MUJI   \n",
      "844                               Men Thrill Deodorant             Envy   \n",
      "845                     Jamaican Rum Perfumed Soap Set           Beardo   \n",
      "846  Activated Charcoal Face Wash For Ace Oil Contr...  The Man Company   \n",
      "\n",
      "    Rating Price (INR)  \n",
      "0        4         200  \n",
      "1      3.5         218  \n",
      "2        4         200  \n",
      "3      3.9         325  \n",
      "4      3.8         200  \n",
      "..     ...         ...  \n",
      "842    4.1         450  \n",
      "843      3         490  \n",
      "844    3.5         187  \n",
      "845    3.4         279  \n",
      "846    4.3         237  \n",
      "\n",
      "[847 rows x 4 columns]\n"
     ]
    }
   ],
   "source": [
    "# Step 4: Save Extracted Data to a dataframe\n",
    "df=0\n",
    "df = pd.DataFrame(filtered_data)\n",
    "print(df)"
   ]
  },
  {
   "cell_type": "code",
   "execution_count": 105,
   "id": "b4381c86-5463-4dbc-960a-739719578100",
   "metadata": {},
   "outputs": [
    {
     "name": "stdout",
     "output_type": "stream",
     "text": [
      "Scraped data saved to output/ajio_men_grooming_products.csv\n"
     ]
    }
   ],
   "source": [
    "# Step 4: Save Extracted Data to a CSV File, Ensure output directory exists\n",
    "import os\n",
    "os.makedirs(\"output\", exist_ok=True)\n",
    "output_path = \"output/ajio_men_grooming_products.csv\"\n",
    "df.to_csv(output_path, index=False)\n",
    "print(f\"Scraped data saved to {output_path}\")"
   ]
  },
  {
   "cell_type": "code",
   "execution_count": 106,
   "id": "39732ec7-3887-4a76-92ef-97bf3836c854",
   "metadata": {},
   "outputs": [
    {
     "data": {
      "text/html": [
       "<div>\n",
       "<style scoped>\n",
       "    .dataframe tbody tr th:only-of-type {\n",
       "        vertical-align: middle;\n",
       "    }\n",
       "\n",
       "    .dataframe tbody tr th {\n",
       "        vertical-align: top;\n",
       "    }\n",
       "\n",
       "    .dataframe thead th {\n",
       "        text-align: right;\n",
       "    }\n",
       "</style>\n",
       "<table border=\"1\" class=\"dataframe\">\n",
       "  <thead>\n",
       "    <tr style=\"text-align: right;\">\n",
       "      <th></th>\n",
       "      <th>Product Name</th>\n",
       "      <th>Brand</th>\n",
       "      <th>Rating</th>\n",
       "      <th>Price (INR)</th>\n",
       "    </tr>\n",
       "  </thead>\n",
       "  <tbody>\n",
       "    <tr>\n",
       "      <th>0</th>\n",
       "      <td>Vegan Body Spray - Vetiver Bergamot Woods</td>\n",
       "      <td>SUPERDRY</td>\n",
       "      <td>4.0</td>\n",
       "      <td>200</td>\n",
       "    </tr>\n",
       "    <tr>\n",
       "      <th>1</th>\n",
       "      <td>Power White Anti-Pollution Double Action Facew...</td>\n",
       "      <td>GARNIER</td>\n",
       "      <td>3.5</td>\n",
       "      <td>218</td>\n",
       "    </tr>\n",
       "    <tr>\n",
       "      <th>2</th>\n",
       "      <td>Vegan Body Spray - Ceaderwood Mandar In Amber</td>\n",
       "      <td>SUPERDRY</td>\n",
       "      <td>4.0</td>\n",
       "      <td>200</td>\n",
       "    </tr>\n",
       "    <tr>\n",
       "      <th>3</th>\n",
       "      <td>Forest Spice Eau De Parfum</td>\n",
       "      <td>WILD STONE</td>\n",
       "      <td>3.9</td>\n",
       "      <td>325</td>\n",
       "    </tr>\n",
       "    <tr>\n",
       "      <th>4</th>\n",
       "      <td>Sport Vegan Revive Body Spray</td>\n",
       "      <td>SUPERDRY</td>\n",
       "      <td>3.8</td>\n",
       "      <td>200</td>\n",
       "    </tr>\n",
       "    <tr>\n",
       "      <th>5</th>\n",
       "      <td>Vegan Body Spray - Moss Aqua Patchoul</td>\n",
       "      <td>SUPERDRY</td>\n",
       "      <td>3.9</td>\n",
       "      <td>200</td>\n",
       "    </tr>\n",
       "    <tr>\n",
       "      <th>6</th>\n",
       "      <td>Men's Beard Colour - B104 Natural Brown</td>\n",
       "      <td>BIGEN</td>\n",
       "      <td>4.4</td>\n",
       "      <td>383</td>\n",
       "    </tr>\n",
       "    <tr>\n",
       "      <th>7</th>\n",
       "      <td>Classic Black Eau de Toilette</td>\n",
       "      <td>JAGUAR</td>\n",
       "      <td>3.9</td>\n",
       "      <td>2,132</td>\n",
       "    </tr>\n",
       "    <tr>\n",
       "      <th>8</th>\n",
       "      <td>3 Niacinamide Toner with Rice Water</td>\n",
       "      <td>Plum</td>\n",
       "      <td>4.3</td>\n",
       "      <td>420</td>\n",
       "    </tr>\n",
       "    <tr>\n",
       "      <th>9</th>\n",
       "      <td>Men Fresh Active Deodorant Spray</td>\n",
       "      <td>NIVEA</td>\n",
       "      <td>3.9</td>\n",
       "      <td>143</td>\n",
       "    </tr>\n",
       "  </tbody>\n",
       "</table>\n",
       "</div>"
      ],
      "text/plain": [
       "                                        Product Name       Brand  Rating  \\\n",
       "0          Vegan Body Spray - Vetiver Bergamot Woods    SUPERDRY     4.0   \n",
       "1  Power White Anti-Pollution Double Action Facew...     GARNIER     3.5   \n",
       "2      Vegan Body Spray - Ceaderwood Mandar In Amber    SUPERDRY     4.0   \n",
       "3                         Forest Spice Eau De Parfum  WILD STONE     3.9   \n",
       "4                      Sport Vegan Revive Body Spray    SUPERDRY     3.8   \n",
       "5              Vegan Body Spray - Moss Aqua Patchoul    SUPERDRY     3.9   \n",
       "6            Men's Beard Colour - B104 Natural Brown       BIGEN     4.4   \n",
       "7                      Classic Black Eau de Toilette      JAGUAR     3.9   \n",
       "8                3 Niacinamide Toner with Rice Water        Plum     4.3   \n",
       "9                   Men Fresh Active Deodorant Spray       NIVEA     3.9   \n",
       "\n",
       "  Price (INR)  \n",
       "0         200  \n",
       "1         218  \n",
       "2         200  \n",
       "3         325  \n",
       "4         200  \n",
       "5         200  \n",
       "6         383  \n",
       "7       2,132  \n",
       "8         420  \n",
       "9         143  "
      ]
     },
     "execution_count": 106,
     "metadata": {},
     "output_type": "execute_result"
    }
   ],
   "source": [
    "# Step 5: Load the Data for Verification\n",
    "df = pd.read_csv(\"output/ajio_men_grooming_products.csv\")\n",
    "df.head(10)  # Display the First 10 Records"
   ]
  },
  {
   "cell_type": "code",
   "execution_count": null,
   "id": "8d72794c-3127-4e8d-bfb8-b72a813d1160",
   "metadata": {},
   "outputs": [],
   "source": []
  }
 ],
 "metadata": {
  "kernelspec": {
   "display_name": "Python 3 (ipykernel)",
   "language": "python",
   "name": "python3"
  },
  "language_info": {
   "codemirror_mode": {
    "name": "ipython",
    "version": 3
   },
   "file_extension": ".py",
   "mimetype": "text/x-python",
   "name": "python",
   "nbconvert_exporter": "python",
   "pygments_lexer": "ipython3",
   "version": "3.11.7"
  }
 },
 "nbformat": 4,
 "nbformat_minor": 5
}
